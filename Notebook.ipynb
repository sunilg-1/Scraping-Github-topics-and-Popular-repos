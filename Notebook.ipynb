{
 "cells": [
  {
   "cell_type": "markdown",
   "id": "3ac6f9cb",
   "metadata": {},
   "source": [
    "Here are the steps we'll follow:\n",
    "\n",
    "- We're going to scrape https://github.com/topics\n",
    "- We'll get a list of topics. For each topic, we'll get topic title, topic page URL and topic description.\n",
    "- For each topic, we'll get the top 25 repositories in the topic from the topic page.\n",
    "- For each repository, we'll grab the repo name, username, stars and repo URL.\n",
    "- For each topic we'll create a CSV file in the following format:\n",
    "\n",
    "```\n",
    "Username,Repo Name,Stars count,Repo URL\n",
    "mrdoob, three.js, 69700, https://github.com/mrdoob/three.js\n",
    "libgdx, libgdx, 18300, https://github.com/libgdx/libgdx\n",
    "```"
   ]
  },
  {
   "cell_type": "code",
   "execution_count": 1,
   "id": "1c762b81",
   "metadata": {},
   "outputs": [],
   "source": [
    "# Importing required dependencies"
   ]
  },
  {
   "cell_type": "code",
   "execution_count": 2,
   "id": "30e7cf63",
   "metadata": {},
   "outputs": [],
   "source": [
    "import requests\n",
    "from bs4 import BeautifulSoup\n",
    "import pandas as pd\n",
    "import os"
   ]
  },
  {
   "cell_type": "code",
   "execution_count": 3,
   "id": "0f01827e",
   "metadata": {},
   "outputs": [
    {
     "data": {
      "text/plain": [
       "200"
      ]
     },
     "execution_count": 3,
     "metadata": {},
     "output_type": "execute_result"
    }
   ],
   "source": [
    "URL = 'https://github.com/topics'\n",
    "response = requests.get(URL)\n",
    "response.status_code"
   ]
  },
  {
   "cell_type": "code",
   "execution_count": 4,
   "id": "9e9e6355",
   "metadata": {},
   "outputs": [
    {
     "data": {
      "text/plain": [
       "152245"
      ]
     },
     "execution_count": 4,
     "metadata": {},
     "output_type": "execute_result"
    }
   ],
   "source": [
    "len(response.text)"
   ]
  },
  {
   "cell_type": "code",
   "execution_count": 5,
   "id": "e0c20c9f",
   "metadata": {},
   "outputs": [],
   "source": [
    "soup = BeautifulSoup(response.text, 'html.parser')"
   ]
  },
  {
   "cell_type": "code",
   "execution_count": 6,
   "id": "abea6474",
   "metadata": {},
   "outputs": [],
   "source": [
    "# name of topic\n",
    "name_class = \"f3 lh-condensed mb-0 mt-1 Link--primary\"\n",
    "topic_names_tag = soup.find_all('p', class_ = name_class)"
   ]
  },
  {
   "cell_type": "code",
   "execution_count": 7,
   "id": "da454df6",
   "metadata": {},
   "outputs": [
    {
     "name": "stdout",
     "output_type": "stream",
     "text": [
      "['3D', 'Ajax', 'Algorithm', 'Amp', 'Android', 'Angular', 'Ansible', 'API', 'Arduino', 'ASP.NET', 'Atom', 'Awesome Lists', 'Amazon Web Services', 'Azure', 'Babel', 'Bash', 'Bitcoin', 'Bootstrap', 'Bot', 'C', 'Chrome', 'Chrome extension', 'Command line interface', 'Clojure', 'Code quality', 'Code review', 'Compiler', 'Continuous integration', 'COVID-19', 'C++']\n"
     ]
    }
   ],
   "source": [
    "topic_names = []\n",
    "for tag in topic_names_tag:\n",
    "    topic_names.append(tag.text)\n",
    "    \n",
    "print(topic_names)"
   ]
  },
  {
   "cell_type": "code",
   "execution_count": 8,
   "id": "dd2a965c",
   "metadata": {},
   "outputs": [],
   "source": [
    "# Description of topic\n",
    "desc_class = \"f5 color-fg-muted mb-0 mt-1\"\n",
    "topic_desc_tag = soup.find_all('p', class_ = desc_class) "
   ]
  },
  {
   "cell_type": "code",
   "execution_count": 9,
   "id": "e7d38c37",
   "metadata": {},
   "outputs": [
    {
     "data": {
      "text/plain": [
       "['3D modeling is the process of virtually developing the surface and structure of a 3D object.',\n",
       " 'Ajax is a technique for creating interactive web applications.',\n",
       " 'Algorithms are self-contained sequences that carry out a variety of tasks.',\n",
       " 'Amp is a non-blocking concurrency library for PHP.',\n",
       " 'Android is an operating system built by Google designed for mobile devices.',\n",
       " 'Angular is an open source web application platform.',\n",
       " 'Ansible is a simple and powerful automation engine.',\n",
       " 'An API (Application Programming Interface) is a collection of protocols and subroutines for building software.',\n",
       " 'Arduino is an open source hardware and software company and maker community.',\n",
       " 'ASP.NET is a web framework for building modern web apps and services.',\n",
       " 'Atom is a open source text editor built with web technologies.',\n",
       " 'An awesome list is a list of awesome things curated by the community.',\n",
       " 'Amazon Web Services provides on-demand cloud computing platforms on a subscription basis.',\n",
       " 'Azure is a cloud computing service created by Microsoft.',\n",
       " 'Babel is a compiler for writing next generation JavaScript, today.',\n",
       " 'Bash is a shell and command language interpreter for the GNU operating system.',\n",
       " 'Bitcoin is a cryptocurrency developed by Satoshi Nakamoto.',\n",
       " 'Bootstrap is an HTML, CSS, and JavaScript framework.',\n",
       " 'A bot is an application that runs automated tasks over the Internet.',\n",
       " 'C is a general purpose programming language that first appeared in 1972.',\n",
       " 'Chrome is a web browser from the tech company Google.',\n",
       " 'Chrome extensions enable users to customize the Chrome browsing experience.',\n",
       " 'A CLI, or command-line interface, is a console that helps users issue commands to a program.',\n",
       " 'Clojure is a dynamic, general-purpose programming language.',\n",
       " 'Automate your code review with style, quality, security, and test‑coverage checks when you need them.',\n",
       " 'Ensure your code meets quality standards and ship with confidence.',\n",
       " 'Compilers are software that translate higher-level programming languages to lower-level languages (e.g. machine code).',\n",
       " 'Automatically build and test your code as you push it upstream, preventing bugs from being deployed to production.',\n",
       " 'The coronavirus disease 2019 (COVID-19) is an infectious disease caused by SARS-CoV-2.',\n",
       " 'C++ is a general purpose and object-oriented programming language.']"
      ]
     },
     "execution_count": 9,
     "metadata": {},
     "output_type": "execute_result"
    }
   ],
   "source": [
    "topic_descs = []\n",
    "for tag in topic_desc_tag:\n",
    "    topic_descs.append(tag.text.strip())\n",
    "\n",
    "topic_descs"
   ]
  },
  {
   "cell_type": "code",
   "execution_count": 10,
   "id": "bae5363e",
   "metadata": {},
   "outputs": [],
   "source": [
    "# link for topic\n",
    "link_class = \"no-underline flex-1 d-flex flex-column\"\n",
    "topic_link_tags = soup.find_all('a', class_ = link_class)"
   ]
  },
  {
   "cell_type": "code",
   "execution_count": 11,
   "id": "648c74f3",
   "metadata": {},
   "outputs": [
    {
     "data": {
      "text/plain": [
       "['https://github.com/topics/3d',\n",
       " 'https://github.com/topics/ajax',\n",
       " 'https://github.com/topics/algorithm',\n",
       " 'https://github.com/topics/amphp',\n",
       " 'https://github.com/topics/android',\n",
       " 'https://github.com/topics/angular',\n",
       " 'https://github.com/topics/ansible',\n",
       " 'https://github.com/topics/api',\n",
       " 'https://github.com/topics/arduino',\n",
       " 'https://github.com/topics/aspnet',\n",
       " 'https://github.com/topics/atom',\n",
       " 'https://github.com/topics/awesome',\n",
       " 'https://github.com/topics/aws',\n",
       " 'https://github.com/topics/azure',\n",
       " 'https://github.com/topics/babel',\n",
       " 'https://github.com/topics/bash',\n",
       " 'https://github.com/topics/bitcoin',\n",
       " 'https://github.com/topics/bootstrap',\n",
       " 'https://github.com/topics/bot',\n",
       " 'https://github.com/topics/c',\n",
       " 'https://github.com/topics/chrome',\n",
       " 'https://github.com/topics/chrome-extension',\n",
       " 'https://github.com/topics/cli',\n",
       " 'https://github.com/topics/clojure',\n",
       " 'https://github.com/topics/code-quality',\n",
       " 'https://github.com/topics/code-review',\n",
       " 'https://github.com/topics/compiler',\n",
       " 'https://github.com/topics/continuous-integration',\n",
       " 'https://github.com/topics/covid-19',\n",
       " 'https://github.com/topics/cpp']"
      ]
     },
     "execution_count": 11,
     "metadata": {},
     "output_type": "execute_result"
    }
   ],
   "source": [
    "topic_links = []\n",
    "for link in topic_link_tags:\n",
    "    topic_links.append(\"https://github.com\" + link['href'])\n",
    "    \n",
    "topic_links"
   ]
  },
  {
   "cell_type": "code",
   "execution_count": 12,
   "id": "cf9b1da3",
   "metadata": {},
   "outputs": [],
   "source": [
    "# create a df combining all above\n",
    "topic_df = {'topic_names': topic_names,\n",
    "            'topic_descs': topic_descs,\n",
    "            'topic_links': topic_links}"
   ]
  },
  {
   "cell_type": "code",
   "execution_count": 13,
   "id": "db615111",
   "metadata": {},
   "outputs": [],
   "source": [
    "df = pd.DataFrame(topic_df)"
   ]
  },
  {
   "cell_type": "code",
   "execution_count": 14,
   "id": "82e8742e",
   "metadata": {},
   "outputs": [
    {
     "data": {
      "text/html": [
       "<div>\n",
       "<style scoped>\n",
       "    .dataframe tbody tr th:only-of-type {\n",
       "        vertical-align: middle;\n",
       "    }\n",
       "\n",
       "    .dataframe tbody tr th {\n",
       "        vertical-align: top;\n",
       "    }\n",
       "\n",
       "    .dataframe thead th {\n",
       "        text-align: right;\n",
       "    }\n",
       "</style>\n",
       "<table border=\"1\" class=\"dataframe\">\n",
       "  <thead>\n",
       "    <tr style=\"text-align: right;\">\n",
       "      <th></th>\n",
       "      <th>topic_names</th>\n",
       "      <th>topic_descs</th>\n",
       "      <th>topic_links</th>\n",
       "    </tr>\n",
       "  </thead>\n",
       "  <tbody>\n",
       "    <tr>\n",
       "      <th>0</th>\n",
       "      <td>3D</td>\n",
       "      <td>3D modeling is the process of virtually develo...</td>\n",
       "      <td>https://github.com/topics/3d</td>\n",
       "    </tr>\n",
       "    <tr>\n",
       "      <th>1</th>\n",
       "      <td>Ajax</td>\n",
       "      <td>Ajax is a technique for creating interactive w...</td>\n",
       "      <td>https://github.com/topics/ajax</td>\n",
       "    </tr>\n",
       "    <tr>\n",
       "      <th>2</th>\n",
       "      <td>Algorithm</td>\n",
       "      <td>Algorithms are self-contained sequences that c...</td>\n",
       "      <td>https://github.com/topics/algorithm</td>\n",
       "    </tr>\n",
       "    <tr>\n",
       "      <th>3</th>\n",
       "      <td>Amp</td>\n",
       "      <td>Amp is a non-blocking concurrency library for ...</td>\n",
       "      <td>https://github.com/topics/amphp</td>\n",
       "    </tr>\n",
       "    <tr>\n",
       "      <th>4</th>\n",
       "      <td>Android</td>\n",
       "      <td>Android is an operating system built by Google...</td>\n",
       "      <td>https://github.com/topics/android</td>\n",
       "    </tr>\n",
       "  </tbody>\n",
       "</table>\n",
       "</div>"
      ],
      "text/plain": [
       "  topic_names                                        topic_descs  \\\n",
       "0          3D  3D modeling is the process of virtually develo...   \n",
       "1        Ajax  Ajax is a technique for creating interactive w...   \n",
       "2   Algorithm  Algorithms are self-contained sequences that c...   \n",
       "3         Amp  Amp is a non-blocking concurrency library for ...   \n",
       "4     Android  Android is an operating system built by Google...   \n",
       "\n",
       "                           topic_links  \n",
       "0         https://github.com/topics/3d  \n",
       "1       https://github.com/topics/ajax  \n",
       "2  https://github.com/topics/algorithm  \n",
       "3      https://github.com/topics/amphp  \n",
       "4    https://github.com/topics/android  "
      ]
     },
     "execution_count": 14,
     "metadata": {},
     "output_type": "execute_result"
    }
   ],
   "source": [
    "df.head()"
   ]
  },
  {
   "cell_type": "markdown",
   "id": "04d32e7a",
   "metadata": {},
   "source": [
    "### Popular Repos for particular topics."
   ]
  },
  {
   "cell_type": "code",
   "execution_count": 15,
   "id": "c9028f91",
   "metadata": {},
   "outputs": [],
   "source": [
    "# Lets check for a example topic\n",
    "first_topic = topic_links[0]"
   ]
  },
  {
   "cell_type": "code",
   "execution_count": 16,
   "id": "f9ba5b4a",
   "metadata": {},
   "outputs": [],
   "source": [
    "# loading html page \n",
    "response = requests.get(first_topic)"
   ]
  },
  {
   "cell_type": "code",
   "execution_count": 17,
   "id": "de08d184",
   "metadata": {},
   "outputs": [
    {
     "data": {
      "text/plain": [
       "451083"
      ]
     },
     "execution_count": 17,
     "metadata": {},
     "output_type": "execute_result"
    }
   ],
   "source": [
    "len(response.text)"
   ]
  },
  {
   "cell_type": "code",
   "execution_count": 18,
   "id": "0bd26f69",
   "metadata": {},
   "outputs": [],
   "source": [
    "# parsing page\n",
    "soup2 = BeautifulSoup(response.text, 'html.parser')"
   ]
  },
  {
   "cell_type": "code",
   "execution_count": 19,
   "id": "09350478",
   "metadata": {},
   "outputs": [],
   "source": [
    "# print(soup2.prettify())"
   ]
  },
  {
   "cell_type": "markdown",
   "id": "c9b7418e",
   "metadata": {},
   "source": [
    "we can pick `p` tags with the `class` ...\n",
    "which has the repo username, repo_name, and url "
   ]
  },
  {
   "cell_type": "code",
   "execution_count": 20,
   "id": "9ded59e7",
   "metadata": {},
   "outputs": [],
   "source": [
    "repo_tags = soup2.find_all('h3', {'class':'f3 color-fg-muted text-normal lh-condensed'})"
   ]
  },
  {
   "cell_type": "code",
   "execution_count": 21,
   "id": "77b9a366",
   "metadata": {},
   "outputs": [],
   "source": [
    "user_tags = repo_tags[0].find_all('a')"
   ]
  },
  {
   "cell_type": "code",
   "execution_count": 22,
   "id": "ce5b3d8f",
   "metadata": {},
   "outputs": [
    {
     "data": {
      "text/plain": [
       "'mrdoob'"
      ]
     },
     "execution_count": 22,
     "metadata": {},
     "output_type": "execute_result"
    }
   ],
   "source": [
    "user_tags[0].text.strip()"
   ]
  },
  {
   "cell_type": "code",
   "execution_count": 23,
   "id": "8656570f",
   "metadata": {},
   "outputs": [
    {
     "data": {
      "text/plain": [
       "'three.js'"
      ]
     },
     "execution_count": 23,
     "metadata": {},
     "output_type": "execute_result"
    }
   ],
   "source": [
    "user_tags[1].text.strip()"
   ]
  },
  {
   "cell_type": "code",
   "execution_count": 24,
   "id": "c38fa601",
   "metadata": {},
   "outputs": [
    {
     "data": {
      "text/plain": [
       "'https://github.com/mrdoob/three.js'"
      ]
     },
     "execution_count": 24,
     "metadata": {},
     "output_type": "execute_result"
    }
   ],
   "source": [
    "base_url = \"https://github.com\"\n",
    "base_url + user_tags[1]['href']"
   ]
  },
  {
   "cell_type": "markdown",
   "id": "1d1ef10d",
   "metadata": {},
   "source": [
    "span and class will get us the total starcount"
   ]
  },
  {
   "cell_type": "code",
   "execution_count": 25,
   "id": "94c26b25",
   "metadata": {},
   "outputs": [],
   "source": [
    "\n",
    "stars_tag = soup2.find_all('span', {'class':'Counter js-social-count'})"
   ]
  },
  {
   "cell_type": "code",
   "execution_count": 26,
   "id": "82b008c7",
   "metadata": {},
   "outputs": [],
   "source": [
    "def star_tag(stars_tag):\n",
    "    star_count = stars_tag['title'].replace(',','')\n",
    "    return int(star_count)"
   ]
  },
  {
   "cell_type": "code",
   "execution_count": 27,
   "id": "4acb55b6",
   "metadata": {},
   "outputs": [
    {
     "data": {
      "text/plain": [
       "85695"
      ]
     },
     "execution_count": 27,
     "metadata": {},
     "output_type": "execute_result"
    }
   ],
   "source": [
    "star_tag(stars_tag[0])"
   ]
  },
  {
   "cell_type": "markdown",
   "id": "2678f0eb",
   "metadata": {},
   "source": [
    "**Writing a function to combine all of the above**"
   ]
  },
  {
   "cell_type": "code",
   "execution_count": 28,
   "id": "cfce1688",
   "metadata": {},
   "outputs": [],
   "source": [
    "def repo_info(h3_tags, str_tag):\n",
    "    a_tags = h3_tags.find_all('a')\n",
    "    username = a_tags[0].text.strip()\n",
    "    repo_name = a_tags[1].text.strip()\n",
    "    stars = star_tag(str_tag)\n",
    "    repo_url = base_url + a_tags[1]['href']\n",
    "    return username, repo_name, stars, repo_url\n",
    "    "
   ]
  },
  {
   "cell_type": "code",
   "execution_count": 29,
   "id": "b4db9206",
   "metadata": {
    "scrolled": true
   },
   "outputs": [
    {
     "data": {
      "text/plain": [
       "('mrdoob', 'three.js', 85695, 'https://github.com/mrdoob/three.js')"
      ]
     },
     "execution_count": 29,
     "metadata": {},
     "output_type": "execute_result"
    }
   ],
   "source": [
    "repo_info(repo_tags[0], stars_tag[0])"
   ]
  },
  {
   "cell_type": "code",
   "execution_count": 30,
   "id": "b434946f",
   "metadata": {},
   "outputs": [
    {
     "data": {
      "text/plain": [
       "85695"
      ]
     },
     "execution_count": 30,
     "metadata": {},
     "output_type": "execute_result"
    }
   ],
   "source": [
    "star_tag(stars_tag[0])"
   ]
  },
  {
   "cell_type": "code",
   "execution_count": 31,
   "id": "a0716f74",
   "metadata": {},
   "outputs": [],
   "source": [
    "# we can get the remaining repositories.\n",
    "topic_repo_dict = {'username': [],\n",
    "         'repo name': [],\n",
    "         'stars count': [],\n",
    "         'repo url':[]}\n",
    "\n",
    "\n",
    "for i in range(len(repo_tags)):\n",
    "    repo = repo_info(repo_tags[i], stars_tag[i])\n",
    "    topic_repo_dict['username'].append(repo[0])\n",
    "    topic_repo_dict['repo name'].append(repo[1])\n",
    "    topic_repo_dict['stars count'].append(repo[2])\n",
    "    topic_repo_dict['repo url'].append(repo[3])\n",
    "    "
   ]
  },
  {
   "cell_type": "code",
   "execution_count": 32,
   "id": "7aa4d0f3",
   "metadata": {},
   "outputs": [],
   "source": [
    "topic_df = pd.DataFrame(topic_repo_dict)"
   ]
  },
  {
   "cell_type": "code",
   "execution_count": 33,
   "id": "7b2d80d3",
   "metadata": {},
   "outputs": [
    {
     "data": {
      "text/html": [
       "<div>\n",
       "<style scoped>\n",
       "    .dataframe tbody tr th:only-of-type {\n",
       "        vertical-align: middle;\n",
       "    }\n",
       "\n",
       "    .dataframe tbody tr th {\n",
       "        vertical-align: top;\n",
       "    }\n",
       "\n",
       "    .dataframe thead th {\n",
       "        text-align: right;\n",
       "    }\n",
       "</style>\n",
       "<table border=\"1\" class=\"dataframe\">\n",
       "  <thead>\n",
       "    <tr style=\"text-align: right;\">\n",
       "      <th></th>\n",
       "      <th>username</th>\n",
       "      <th>repo name</th>\n",
       "      <th>stars count</th>\n",
       "      <th>repo url</th>\n",
       "    </tr>\n",
       "  </thead>\n",
       "  <tbody>\n",
       "    <tr>\n",
       "      <th>0</th>\n",
       "      <td>mrdoob</td>\n",
       "      <td>three.js</td>\n",
       "      <td>85695</td>\n",
       "      <td>https://github.com/mrdoob/three.js</td>\n",
       "    </tr>\n",
       "    <tr>\n",
       "      <th>1</th>\n",
       "      <td>libgdx</td>\n",
       "      <td>libgdx</td>\n",
       "      <td>20533</td>\n",
       "      <td>https://github.com/libgdx/libgdx</td>\n",
       "    </tr>\n",
       "    <tr>\n",
       "      <th>2</th>\n",
       "      <td>pmndrs</td>\n",
       "      <td>react-three-fiber</td>\n",
       "      <td>19727</td>\n",
       "      <td>https://github.com/pmndrs/react-three-fiber</td>\n",
       "    </tr>\n",
       "    <tr>\n",
       "      <th>3</th>\n",
       "      <td>BabylonJS</td>\n",
       "      <td>Babylon.js</td>\n",
       "      <td>18442</td>\n",
       "      <td>https://github.com/BabylonJS/Babylon.js</td>\n",
       "    </tr>\n",
       "    <tr>\n",
       "      <th>4</th>\n",
       "      <td>ssloy</td>\n",
       "      <td>tinyrenderer</td>\n",
       "      <td>14763</td>\n",
       "      <td>https://github.com/ssloy/tinyrenderer</td>\n",
       "    </tr>\n",
       "    <tr>\n",
       "      <th>5</th>\n",
       "      <td>aframevr</td>\n",
       "      <td>aframe</td>\n",
       "      <td>14584</td>\n",
       "      <td>https://github.com/aframevr/aframe</td>\n",
       "    </tr>\n",
       "    <tr>\n",
       "      <th>6</th>\n",
       "      <td>lettier</td>\n",
       "      <td>3d-game-shaders-for-beginners</td>\n",
       "      <td>13750</td>\n",
       "      <td>https://github.com/lettier/3d-game-shaders-for...</td>\n",
       "    </tr>\n",
       "    <tr>\n",
       "      <th>7</th>\n",
       "      <td>FreeCAD</td>\n",
       "      <td>FreeCAD</td>\n",
       "      <td>12261</td>\n",
       "      <td>https://github.com/FreeCAD/FreeCAD</td>\n",
       "    </tr>\n",
       "    <tr>\n",
       "      <th>8</th>\n",
       "      <td>metafizzy</td>\n",
       "      <td>zdog</td>\n",
       "      <td>9395</td>\n",
       "      <td>https://github.com/metafizzy/zdog</td>\n",
       "    </tr>\n",
       "    <tr>\n",
       "      <th>9</th>\n",
       "      <td>CesiumGS</td>\n",
       "      <td>cesium</td>\n",
       "      <td>9299</td>\n",
       "      <td>https://github.com/CesiumGS/cesium</td>\n",
       "    </tr>\n",
       "    <tr>\n",
       "      <th>10</th>\n",
       "      <td>timzhang642</td>\n",
       "      <td>3D-Machine-Learning</td>\n",
       "      <td>8359</td>\n",
       "      <td>https://github.com/timzhang642/3D-Machine-Lear...</td>\n",
       "    </tr>\n",
       "    <tr>\n",
       "      <th>11</th>\n",
       "      <td>isl-org</td>\n",
       "      <td>Open3D</td>\n",
       "      <td>7454</td>\n",
       "      <td>https://github.com/isl-org/Open3D</td>\n",
       "    </tr>\n",
       "    <tr>\n",
       "      <th>12</th>\n",
       "      <td>a1studmuffin</td>\n",
       "      <td>SpaceshipGenerator</td>\n",
       "      <td>7213</td>\n",
       "      <td>https://github.com/a1studmuffin/SpaceshipGener...</td>\n",
       "    </tr>\n",
       "    <tr>\n",
       "      <th>13</th>\n",
       "      <td>blender</td>\n",
       "      <td>blender</td>\n",
       "      <td>6662</td>\n",
       "      <td>https://github.com/blender/blender</td>\n",
       "    </tr>\n",
       "    <tr>\n",
       "      <th>14</th>\n",
       "      <td>domlysz</td>\n",
       "      <td>BlenderGIS</td>\n",
       "      <td>5641</td>\n",
       "      <td>https://github.com/domlysz/BlenderGIS</td>\n",
       "    </tr>\n",
       "    <tr>\n",
       "      <th>15</th>\n",
       "      <td>openscad</td>\n",
       "      <td>openscad</td>\n",
       "      <td>5039</td>\n",
       "      <td>https://github.com/openscad/openscad</td>\n",
       "    </tr>\n",
       "    <tr>\n",
       "      <th>16</th>\n",
       "      <td>spritejs</td>\n",
       "      <td>spritejs</td>\n",
       "      <td>4982</td>\n",
       "      <td>https://github.com/spritejs/spritejs</td>\n",
       "    </tr>\n",
       "    <tr>\n",
       "      <th>17</th>\n",
       "      <td>google</td>\n",
       "      <td>model-viewer</td>\n",
       "      <td>4781</td>\n",
       "      <td>https://github.com/google/model-viewer</td>\n",
       "    </tr>\n",
       "    <tr>\n",
       "      <th>18</th>\n",
       "      <td>jagenjo</td>\n",
       "      <td>webglstudio.js</td>\n",
       "      <td>4734</td>\n",
       "      <td>https://github.com/jagenjo/webglstudio.js</td>\n",
       "    </tr>\n",
       "    <tr>\n",
       "      <th>19</th>\n",
       "      <td>tensorspace-team</td>\n",
       "      <td>tensorspace</td>\n",
       "      <td>4716</td>\n",
       "      <td>https://github.com/tensorspace-team/tensorspace</td>\n",
       "    </tr>\n",
       "  </tbody>\n",
       "</table>\n",
       "</div>"
      ],
      "text/plain": [
       "            username                      repo name  stars count  \\\n",
       "0             mrdoob                       three.js        85695   \n",
       "1             libgdx                         libgdx        20533   \n",
       "2             pmndrs              react-three-fiber        19727   \n",
       "3          BabylonJS                     Babylon.js        18442   \n",
       "4              ssloy                   tinyrenderer        14763   \n",
       "5           aframevr                         aframe        14584   \n",
       "6            lettier  3d-game-shaders-for-beginners        13750   \n",
       "7            FreeCAD                        FreeCAD        12261   \n",
       "8          metafizzy                           zdog         9395   \n",
       "9           CesiumGS                         cesium         9299   \n",
       "10       timzhang642            3D-Machine-Learning         8359   \n",
       "11           isl-org                         Open3D         7454   \n",
       "12      a1studmuffin             SpaceshipGenerator         7213   \n",
       "13           blender                        blender         6662   \n",
       "14           domlysz                     BlenderGIS         5641   \n",
       "15          openscad                       openscad         5039   \n",
       "16          spritejs                       spritejs         4982   \n",
       "17            google                   model-viewer         4781   \n",
       "18           jagenjo                 webglstudio.js         4734   \n",
       "19  tensorspace-team                    tensorspace         4716   \n",
       "\n",
       "                                             repo url  \n",
       "0                  https://github.com/mrdoob/three.js  \n",
       "1                    https://github.com/libgdx/libgdx  \n",
       "2         https://github.com/pmndrs/react-three-fiber  \n",
       "3             https://github.com/BabylonJS/Babylon.js  \n",
       "4               https://github.com/ssloy/tinyrenderer  \n",
       "5                  https://github.com/aframevr/aframe  \n",
       "6   https://github.com/lettier/3d-game-shaders-for...  \n",
       "7                  https://github.com/FreeCAD/FreeCAD  \n",
       "8                   https://github.com/metafizzy/zdog  \n",
       "9                  https://github.com/CesiumGS/cesium  \n",
       "10  https://github.com/timzhang642/3D-Machine-Lear...  \n",
       "11                  https://github.com/isl-org/Open3D  \n",
       "12  https://github.com/a1studmuffin/SpaceshipGener...  \n",
       "13                 https://github.com/blender/blender  \n",
       "14              https://github.com/domlysz/BlenderGIS  \n",
       "15               https://github.com/openscad/openscad  \n",
       "16               https://github.com/spritejs/spritejs  \n",
       "17             https://github.com/google/model-viewer  \n",
       "18          https://github.com/jagenjo/webglstudio.js  \n",
       "19    https://github.com/tensorspace-team/tensorspace  "
      ]
     },
     "execution_count": 33,
     "metadata": {},
     "output_type": "execute_result"
    }
   ],
   "source": [
    "topic_df"
   ]
  },
  {
   "cell_type": "markdown",
   "id": "4ae2b264",
   "metadata": {},
   "source": [
    "We got the popular repositories for first topic (3D)."
   ]
  },
  {
   "cell_type": "markdown",
   "id": "75d54f3d",
   "metadata": {},
   "source": [
    "### Now we can get top repositories for each topic\n",
    "\n",
    "Lets write some more functions to get repos for different topics and store them in a file."
   ]
  },
  {
   "cell_type": "code",
   "execution_count": 35,
   "id": "fad6487b",
   "metadata": {},
   "outputs": [],
   "source": [
    "\n",
    "def topic_page(topic_url):\n",
    "    # request page content\n",
    "    response = requests.get(topic_url)\n",
    "    # parseusing bs4\n",
    "    topic_doc = BeautifulSoup(response.text, 'html.parser')\n",
    "    \n",
    "    return topic_doc\n",
    "\n",
    "def repo_info(h3_tags, str_tag):\n",
    "    a_tags = h3_tags.find_all('a')\n",
    "    username = a_tags[0].text.strip()\n",
    "    repo_name = a_tags[1].text.strip()\n",
    "    stars = star_tag(str_tag)\n",
    "    repo_url = base_url + a_tags[1]['href']\n",
    "    return username, repo_name, stars, repo_url\n",
    "    \n",
    "\n",
    "def topic_content(topic_doc):\n",
    "\n",
    "    repo_tags = topic_doc.find_all('h3', {'class':'f3 color-fg-muted text-normal lh-condensed'})\n",
    "    \n",
    "    stars_tag = topic_doc.find_all('span', {'class':'Counter js-social-count'})\n",
    "    \n",
    "    \n",
    "    topic_repo_dict = {'username': [],\n",
    "             'repo name': [],\n",
    "             'stars count': [],\n",
    "             'repo url':[]\n",
    "    }\n",
    "\n",
    "\n",
    "    for i in range(len(repo_tags)):\n",
    "        repo = repo_info(repo_tags[i], stars_tag[i])\n",
    "        topic_repo_dict['username'].append(repo[0])\n",
    "        topic_repo_dict['repo name'].append(repo[1])\n",
    "        topic_repo_dict['stars count'].append(repo[2])\n",
    "        topic_repo_dict['repo url'].append(repo[3])\n",
    "        \n",
    "    return pd.DataFrame(topic_repo_dict)\n",
    "\n",
    "def scrape_topic(topic_url, path):\n",
    "    if os.path.exists(path):\n",
    "        print(\"The file {} already exists. Skipping...\".format(path))\n",
    "        return\n",
    "    topic_df = topic_content(topic_page(topic_url))\n",
    "    topic_df.to_csv(path, index=None)"
   ]
  },
  {
   "cell_type": "code",
   "execution_count": 36,
   "id": "3e954f15",
   "metadata": {
    "scrolled": true
   },
   "outputs": [],
   "source": [
    "def get_topic_titles(soup):\n",
    "    name_class = \"f3 lh-condensed mb-0 mt-1 Link--primary\"\n",
    "    topic_names_tag = soup.find_all('p', class_ = name_class)\n",
    "    topic_titles = []\n",
    "    for tag in topic_names_tag:\n",
    "        topic_titles.append(tag.text)\n",
    "    return topic_titles\n",
    "\n",
    "def get_topic_descs(soup):\n",
    "    # Description of topic\n",
    "    desc_class = \"f5 color-fg-muted mb-0 mt-1\"\n",
    "    topic_desc_tag = soup.find_all('p', class_ = desc_class) \n",
    "    topic_descs = []\n",
    "    for tag in topic_desc_tag:\n",
    "        topic_descs.append(tag.text.strip())\n",
    "    return topic_descs\n",
    "\n",
    "def get_topic_urls(soup):\n",
    "    # link for topic\n",
    "    link_class = \"no-underline flex-1 d-flex flex-column\"\n",
    "    topic_link_tags = soup.find_all('a', class_ = link_class)\n",
    "    topic_links = []\n",
    "    for link in topic_link_tags:\n",
    "        topic_links.append(\"https://github.com\" + link['href'])\n",
    "\n",
    "    return topic_links\n",
    "    \n",
    "\n",
    "def scrape_topics():\n",
    "    topics_url = 'https://github.com/topics'\n",
    "    response = requests.get(topics_url)\n",
    "    if response.status_code != 200:\n",
    "        raise Exception('Failed to load page {}'.format(topic_url))\n",
    "    topics_dict = {\n",
    "        'title': get_topic_titles(soup),\n",
    "        'description': get_topic_descs(soup),\n",
    "        'url': get_topic_urls(soup)\n",
    "    }\n",
    "    return pd.DataFrame(topics_dict)"
   ]
  },
  {
   "cell_type": "code",
   "execution_count": 37,
   "id": "9b59a309",
   "metadata": {},
   "outputs": [],
   "source": [
    "def scrape_topics_repos():\n",
    "    print('Scraping list of topics')\n",
    "    topics_df = scrape_topics()\n",
    "    \n",
    "    os.makedirs('data', exist_ok=True)\n",
    "    for index, row in topics_df.iterrows():\n",
    "        print('Scraping top repositories for \"{}\"'.format(row['title']))\n",
    "        scrape_topic(row['url'], 'data/{}.csv'.format(row['title']))"
   ]
  },
  {
   "cell_type": "code",
   "execution_count": 38,
   "id": "9dd0fe30",
   "metadata": {},
   "outputs": [
    {
     "name": "stdout",
     "output_type": "stream",
     "text": [
      "Scraping list of topics\n",
      "Scraping top repositories for \"3D\"\n",
      "Scraping top repositories for \"Ajax\"\n",
      "Scraping top repositories for \"Algorithm\"\n",
      "Scraping top repositories for \"Amp\"\n",
      "Scraping top repositories for \"Android\"\n",
      "Scraping top repositories for \"Angular\"\n",
      "Scraping top repositories for \"Ansible\"\n",
      "Scraping top repositories for \"API\"\n",
      "Scraping top repositories for \"Arduino\"\n",
      "Scraping top repositories for \"ASP.NET\"\n",
      "Scraping top repositories for \"Atom\"\n",
      "Scraping top repositories for \"Awesome Lists\"\n",
      "Scraping top repositories for \"Amazon Web Services\"\n",
      "Scraping top repositories for \"Azure\"\n",
      "Scraping top repositories for \"Babel\"\n",
      "Scraping top repositories for \"Bash\"\n",
      "Scraping top repositories for \"Bitcoin\"\n",
      "Scraping top repositories for \"Bootstrap\"\n",
      "Scraping top repositories for \"Bot\"\n",
      "Scraping top repositories for \"C\"\n",
      "Scraping top repositories for \"Chrome\"\n",
      "Scraping top repositories for \"Chrome extension\"\n",
      "Scraping top repositories for \"Command line interface\"\n",
      "Scraping top repositories for \"Clojure\"\n",
      "Scraping top repositories for \"Code quality\"\n",
      "Scraping top repositories for \"Code review\"\n",
      "Scraping top repositories for \"Compiler\"\n",
      "Scraping top repositories for \"Continuous integration\"\n",
      "Scraping top repositories for \"COVID-19\"\n",
      "Scraping top repositories for \"C++\"\n"
     ]
    }
   ],
   "source": [
    "scrape_topics_repos()"
   ]
  },
  {
   "cell_type": "code",
   "execution_count": null,
   "id": "19cea086",
   "metadata": {},
   "outputs": [],
   "source": []
  }
 ],
 "metadata": {
  "kernelspec": {
   "display_name": "Python 3 (ipykernel)",
   "language": "python",
   "name": "python3"
  },
  "language_info": {
   "codemirror_mode": {
    "name": "ipython",
    "version": 3
   },
   "file_extension": ".py",
   "mimetype": "text/x-python",
   "name": "python",
   "nbconvert_exporter": "python",
   "pygments_lexer": "ipython3",
   "version": "3.10.3"
  }
 },
 "nbformat": 4,
 "nbformat_minor": 5
}
